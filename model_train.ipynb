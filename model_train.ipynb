{
 "cells": [
  {
   "cell_type": "markdown",
   "metadata": {},
   "source": [
    "This is the model training for a Descision Tree Classifier, for a Loan approval"
   ]
  },
  {
   "cell_type": "code",
   "execution_count": 1,
   "metadata": {},
   "outputs": [],
   "source": [
    "#Import all needed imports\n",
    "\n",
    "import pandas as pd\n",
    "import matplotlib.pyplot as plt\n",
    "from sklearn.model_selection import train_test_split\n",
    "from sklearn.tree import DecisionTreeClassifier\n",
    "from sklearn.ensemble import RandomForestClassifier\n",
    "from sklearn.metrics import accuracy_score, precision_score, recall_score, f1_score, roc_auc_score, roc_curve\n",
    "from sklearn.neighbors import KNeighborsClassifier\n",
    "import pickle\n",
    "from sklearn.linear_model import LogisticRegression"
   ]
  },
  {
   "cell_type": "markdown",
   "metadata": {},
   "source": [
    "### Step 1 Data Preprocessing"
   ]
  },
  {
   "cell_type": "code",
   "execution_count": null,
   "metadata": {},
   "outputs": [],
   "source": [
    "#set file path and load with pandas\n",
    "file_path = 'loan_approval_dataset.csv'\n",
    "loan_ds = pd.read_csv(file_path)\n",
    "loan_ds.head(10)"
   ]
  },
  {
   "cell_type": "code",
   "execution_count": null,
   "metadata": {},
   "outputs": [],
   "source": [
    "#check if we have missing values\n",
    "missing_values = loan_ds.isnull().sum()\n",
    "print(\"Columns with missing values:\\n\", missing_values[missing_values > 0])\n",
    "#remove whitespace from cells\n",
    "loan_ds.columns = loan_ds.columns.str.strip()\n",
    "print(loan_ds.dtypes)"
   ]
  },
  {
   "cell_type": "code",
   "execution_count": null,
   "metadata": {},
   "outputs": [],
   "source": [
    "# Convert to Binary Values\n",
    "loan_ds['loan_status'] = loan_ds['loan_status'].apply(lambda x: 1 if x.strip() == 'Approved' else 0)\n",
    "loan_ds['education'] = loan_ds['education'].apply(lambda x: 1 if x.strip() == 'Graduate' else 0)\n",
    "loan_ds['self_employed'] = loan_ds['self_employed'].apply(lambda x: 1 if x.strip() == 'Yes' else 0)\n",
    "print(loan_ds.dtypes)"
   ]
  },
  {
   "cell_type": "code",
   "execution_count": 5,
   "metadata": {},
   "outputs": [],
   "source": [
    "# Convert to numeric values\n",
    "loan_ds['no_of_dependents'] = pd.to_numeric(loan_ds['no_of_dependents'], errors='coerce')\n",
    "loan_ds['income_annum'] = pd.to_numeric(loan_ds['income_annum'], errors='coerce')\n",
    "loan_ds['loan_amount'] = pd.to_numeric(loan_ds['loan_amount'], errors='coerce')\n",
    "loan_ds['cibil_score'] = pd.to_numeric(loan_ds['cibil_score'], errors='coerce')"
   ]
  },
  {
   "cell_type": "markdown",
   "metadata": {},
   "source": [
    "### Step 3 Model Development"
   ]
  },
  {
   "cell_type": "code",
   "execution_count": null,
   "metadata": {},
   "outputs": [],
   "source": [
    "# Set Features and expected ouput with X and y respectively\n",
    "X = loan_ds.drop('loan_status', axis=1)\n",
    "y = loan_ds['loan_status']\n",
    "print(\"Features shape:\", X.shape)\n",
    "print(\"\\nFeature columns:\", X.columns.tolist())"
   ]
  },
  {
   "cell_type": "code",
   "execution_count": 7,
   "metadata": {},
   "outputs": [],
   "source": [
    "X_train, X_test, y_train, y_test = train_test_split(X, y, test_size=0.2, random_state=42)"
   ]
  },
  {
   "cell_type": "markdown",
   "metadata": {},
   "source": []
  },
  {
   "cell_type": "code",
   "execution_count": 8,
   "metadata": {},
   "outputs": [],
   "source": [
    "#create model object and fit it to data\n",
    "model = DecisionTreeClassifier(random_state=42)\n",
    "trained_model_tree = model.fit(X_train, y_train)\n",
    "\n",
    "#2nd model Random Forest Classifier\n",
    "rf = RandomForestClassifier(random_state=42)\n",
    "trained_model_forest = rf.fit(X_train, y_train)\n",
    "\n",
    "#3rd model Logisitic Regression\n",
    "lr = LogisticRegression(random_state=42)\n",
    "trained_model_logistic_regression = lr.fit(X_train, y_train)\n",
    "\n",
    "#4th model KNN\n",
    "knn = KNeighborsClassifier(n_neighbors=33)\n",
    "trained_knn = knn.fit(X_train, y_train)"
   ]
  },
  {
   "cell_type": "markdown",
   "metadata": {},
   "source": [
    "### Step 4 Model Evaluation"
   ]
  },
  {
   "cell_type": "code",
   "execution_count": null,
   "metadata": {},
   "outputs": [],
   "source": [
    "y_pred_tree = trained_model_tree.predict(X_test)\n",
    "y_pred_proba_tree = trained_model_tree.predict_proba(X_test)[:, 1]\n",
    "\n",
    "y_pred_forest = trained_model_forest.predict(X_test)\n",
    "y_pred_proba = trained_model_forest.predict_proba(X_test)[:, 1]\n",
    "\n",
    "y_pred_logistic_regression = trained_model_logistic_regression.predict(X_test)\n",
    "y_pred_proba_logistic_regression = trained_model_forest.predict_proba(X_test)[:, 1]\n",
    "\n",
    "y_pred_knn = trained_knn.predict(X_test)\n",
    "y_pred_proba_knn = trained_knn.predict_proba(X_test)[:, 1]\n",
    "\n",
    "# Calculate metrics for tree\n",
    "def metrics(y_pred, y_pred_proba, classifier_name):\n",
    "    print(\"Metrics for \" + classifier_name + \":\")\n",
    "    accuracy = accuracy_score(y_test, y_pred)\n",
    "    precision = precision_score(y_test, y_pred)\n",
    "    recall = recall_score(y_test, y_pred)\n",
    "    f1 = f1_score(y_test, y_pred)\n",
    "    auc = roc_auc_score(y_test, y_pred_proba)\n",
    "    print(f\"Accuracy: {accuracy:.4f}\")\n",
    "    print(f\"Precision: {precision:.4f}\")\n",
    "    print(f\"Recall: {recall:.4f}\")\n",
    "    print(f\"F1-Score: {f1:.4f}\")\n",
    "    print(f\"AUC: {auc:.4f}\\n\")\n",
    "\n",
    "metrics(y_pred_tree, y_pred_proba_tree, \"Decision Tree\")\n",
    "metrics(y_pred_forest, y_pred_proba, \"Random Forest\")\n",
    "metrics(y_pred_logistic_regression, y_pred_proba_logistic_regression, \"Logisitic Regression\")\n",
    "metrics(y_pred_knn, y_pred_proba_knn, \"K Nearest Neighbors\")"
   ]
  },
  {
   "cell_type": "markdown",
   "metadata": {},
   "source": [
    "### Top 8 Features"
   ]
  },
  {
   "cell_type": "code",
   "execution_count": null,
   "metadata": {},
   "outputs": [],
   "source": [
    "importances = model.feature_importances_\n",
    "feature_importances = pd.DataFrame({'feature': X_train.columns, 'importance': importances})\n",
    "feature_importances.sort_values('importance', ascending=False, inplace=True)\n",
    "top_eight_features = feature_importances.tail(14)\n",
    "print(top_eight_features)"
   ]
  },
  {
   "cell_type": "markdown",
   "metadata": {},
   "source": [
    "### Retrain/test with top 8 features"
   ]
  },
  {
   "cell_type": "code",
   "execution_count": null,
   "metadata": {},
   "outputs": [],
   "source": [
    "# NOTE: We will use no_of_dependents because can't ask users for loan id\n",
    "X = loan_ds.drop(['loan_status', 'loan_id', 'bank_asset_value', 'education', 'self_employed'], axis=1)\n",
    "y = loan_ds['loan_status'] \n",
    "X_train, X_test, y_train, y_test = train_test_split(X, y, test_size=0.2, random_state=42)\n",
    "\n",
    "#1st model DecisionTreeClassifier\n",
    "model = DecisionTreeClassifier(random_state=42)\n",
    "trained_model_tree = model.fit(X_train, y_train)\n",
    "\n",
    "#2nd model Random Forest Classifier\n",
    "rf_final = RandomForestClassifier(random_state=42)\n",
    "trained_model_forest_final = rf.fit(X_train, y_train)\n",
    "\n",
    "#3rd model Logisitic Regression\n",
    "lr = LogisticRegression(random_state=42)\n",
    "trained_model_logistic_regression = lr.fit(X_train, y_train)\n",
    "\n",
    "#4th model KNN\n",
    "# Played around with hyperparameter and found 33 to do OK\n",
    "knn = KNeighborsClassifier(n_neighbors=33)\n",
    "trained_knn = knn.fit(X_train, y_train)\n",
    "\n",
    "metrics(y_pred_tree, y_pred_proba_tree, \"Decision Tree\")\n",
    "metrics(y_pred_forest, y_pred_proba, \"Random Forest\")\n",
    "metrics(y_pred_logistic_regression, y_pred_proba_logistic_regression, \"Logisitic Regression\")\n",
    "metrics(y_pred_knn, y_pred_proba_knn, \"K Nearest Neighbors\")"
   ]
  },
  {
   "cell_type": "code",
   "execution_count": null,
   "metadata": {},
   "outputs": [],
   "source": [
    "# Plot ROC curve\n",
    "plt.figure(figsize=(8, 6))\n",
    "fpr, tpr, thresholds = roc_curve(y_test, y_pred_proba)\n",
    "plt.plot(fpr, tpr, color='blue', label=f'ROC Curve (AUC = {roc_auc_score(y_test, y_pred_proba):.4f})')\n",
    "plt.plot([0, 1], [0, 1], color='gray', linestyle='--')\n",
    "plt.xlabel(\"False Positive Rate\")\n",
    "plt.ylabel(\"True Positive Rate\")\n",
    "plt.title(\"ROC Curve\")\n",
    "plt.legend(loc=\"lower right\")\n",
    "plt.show()"
   ]
  },
  {
   "cell_type": "code",
   "execution_count": null,
   "metadata": {},
   "outputs": [],
   "source": [
    "print(X.head())\n",
    "ml_model = 'forest.sav'\n",
    "pickle.dump(trained_model_forest_final,open(ml_model,'wb'))"
   ]
  },
  {
   "cell_type": "code",
   "execution_count": null,
   "metadata": {},
   "outputs": [],
   "source": []
  }
 ],
 "metadata": {
  "kernelspec": {
   "display_name": "Python 3",
   "language": "python",
   "name": "python3"
  },
  "language_info": {
   "codemirror_mode": {
    "name": "ipython",
    "version": 3
   },
   "file_extension": ".py",
   "mimetype": "text/x-python",
   "name": "python",
   "nbconvert_exporter": "python",
   "pygments_lexer": "ipython3",
   "version": "3.11.5"
  }
 },
 "nbformat": 4,
 "nbformat_minor": 2
}
